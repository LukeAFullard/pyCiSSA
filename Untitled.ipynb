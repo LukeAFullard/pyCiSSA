{
 "cells": [
  {
   "cell_type": "code",
   "execution_count": 1,
   "id": "4c483d86",
   "metadata": {},
   "outputs": [],
   "source": [
    "import pandas as pd\n",
    "import datetime\n",
    "import numpy as np"
   ]
  },
  {
   "cell_type": "code",
   "execution_count": 17,
   "id": "26716cf1",
   "metadata": {},
   "outputs": [
    {
     "name": "stdout",
     "output_type": "stream",
     "text": [
      "True\n",
      "<class 'datetime.datetime'>\n",
      "1715657400.0\n"
     ]
    }
   ],
   "source": [
    "dt = datetime.datetime(2024, 5, 14, 15, 30)\n",
    "print(isinstance(dt,datetime.datetime))\n",
    "print(type(dt))\n",
    "timestamp = dt.timestamp()\n",
    "print(timestamp)  # e.g., 1715691000.0"
   ]
  },
  {
   "cell_type": "code",
   "execution_count": 15,
   "id": "c7cfb220",
   "metadata": {},
   "outputs": [
    {
     "name": "stdout",
     "output_type": "stream",
     "text": [
      "<class 'datetime.date'>\n",
      "1715601600.0\n",
      "True\n"
     ]
    }
   ],
   "source": [
    "d = datetime.date(2024, 5, 14)\n",
    "print(type(d))\n",
    "timestamp = datetime.datetime.combine(d, datetime.datetime.min.time()).timestamp()\n",
    "print(timestamp)\n",
    "print(isinstance(d,datetime.date))"
   ]
  },
  {
   "cell_type": "code",
   "execution_count": 18,
   "id": "6d6d7446",
   "metadata": {},
   "outputs": [
    {
     "name": "stdout",
     "output_type": "stream",
     "text": [
      "True\n",
      "<class 'numpy.datetime64'>\n",
      "1715657400.0\n"
     ]
    }
   ],
   "source": [
    "dt64 = np.datetime64('2024-05-14T15:30')\n",
    "print(isinstance(dt64,np.datetime64))\n",
    "print(type(dt64))\n",
    "dt = dt64.astype('datetime64[s]').astype(datetime.datetime)\n",
    "#timestamp = dt.timestamp()\n",
    "timestamp = dt64.astype('datetime64[s]').astype(datetime.datetime).timestamp()\n",
    "print(timestamp)"
   ]
  },
  {
   "cell_type": "code",
   "execution_count": null,
   "id": "fb0de88f",
   "metadata": {},
   "outputs": [],
   "source": []
  }
 ],
 "metadata": {
  "kernelspec": {
   "display_name": "Python 3 (ipykernel)",
   "language": "python",
   "name": "python3"
  },
  "language_info": {
   "codemirror_mode": {
    "name": "ipython",
    "version": 3
   },
   "file_extension": ".py",
   "mimetype": "text/x-python",
   "name": "python",
   "nbconvert_exporter": "python",
   "pygments_lexer": "ipython3",
   "version": "3.10.6"
  }
 },
 "nbformat": 4,
 "nbformat_minor": 5
}
