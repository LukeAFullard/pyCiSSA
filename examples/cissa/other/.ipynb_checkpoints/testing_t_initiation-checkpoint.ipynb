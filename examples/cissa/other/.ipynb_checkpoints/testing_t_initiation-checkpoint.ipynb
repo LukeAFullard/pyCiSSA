{
 "cells": [
  {
   "cell_type": "code",
   "execution_count": null,
   "id": "a6cdb798",
   "metadata": {},
   "outputs": [],
   "source": []
  },
  {
   "cell_type": "code",
   "execution_count": 1,
   "id": "3d673868",
   "metadata": {},
   "outputs": [],
   "source": [
    "#importing required packages\n",
    "import pandas as pd\n",
    "import numpy as np\n",
    "import os\n",
    "import copy\n",
    "os.chdir('../../..')\n",
    "home_path = os.path.abspath('')\n",
    "from pycissa import Cissa\n",
    "os.chdir(home_path)"
   ]
  },
  {
   "cell_type": "code",
   "execution_count": 2,
   "id": "3d2f21e2",
   "metadata": {},
   "outputs": [],
   "source": [
    "## Read data file  (source is the Ministry of Economy of Spain.)\n",
    "data = pd.read_excel(home_path + r'/data/EPC.xlsx',sheet_name = 'Data')"
   ]
  },
  {
   "cell_type": "markdown",
   "id": "6e6c5315",
   "metadata": {},
   "source": [
    "## Standard t vector\n"
   ]
  },
  {
   "cell_type": "code",
   "execution_count": 3,
   "id": "ed5e6a90",
   "metadata": {},
   "outputs": [],
   "source": [
    "cissa_1 = Cissa(t=data['Date'],x=data['Electric power consumption in Spain'])"
   ]
  },
  {
   "cell_type": "code",
   "execution_count": null,
   "id": "a38230f2",
   "metadata": {},
   "outputs": [],
   "source": []
  },
  {
   "cell_type": "markdown",
   "id": "319a2eab",
   "metadata": {},
   "source": [
    "## reordered"
   ]
  },
  {
   "cell_type": "code",
   "execution_count": 4,
   "id": "dd5990e7",
   "metadata": {},
   "outputs": [],
   "source": [
    "t0 = copy.deepcopy(data['Date'])\n",
    "first_entry= t0[0]\n",
    "second_entry= t0[1]\n",
    "t0[0]=second_entry\n",
    "t0[1]=first_entry\n",
    "cissa_reordered = Cissa(t=t0,x=data['Electric power consumption in Spain'])"
   ]
  },
  {
   "cell_type": "markdown",
   "id": "d24c013b",
   "metadata": {},
   "source": [
    "## numeric"
   ]
  },
  {
   "cell_type": "code",
   "execution_count": 5,
   "id": "8a4d20b0",
   "metadata": {},
   "outputs": [],
   "source": [
    "cissa_numeric = Cissa(t=list(range(len(data['Electric power consumption in Spain']))),x=data['Electric power consumption in Spain'])"
   ]
  },
  {
   "cell_type": "code",
   "execution_count": null,
   "id": "06103ad6",
   "metadata": {},
   "outputs": [],
   "source": []
  },
  {
   "cell_type": "markdown",
   "id": "f4810506",
   "metadata": {},
   "source": [
    "## numeric reordered"
   ]
  },
  {
   "cell_type": "code",
   "execution_count": 8,
   "id": "b17836ec",
   "metadata": {},
   "outputs": [
    {
     "ename": "ValueError",
     "evalue": "Time vector t is not sorted in ascending order. Element 5 at index 6 is less than preceding element 6 at index 5.",
     "output_type": "error",
     "traceback": [
      "\u001b[0;31m---------------------------------------------------------------------------\u001b[0m",
      "\u001b[0;31mValueError\u001b[0m                                Traceback (most recent call last)",
      "\u001b[0;32m/tmp/ipykernel_20135/3347294323.py\u001b[0m in \u001b[0;36m<cell line: 6>\u001b[0;34m()\u001b[0m\n\u001b[1;32m      4\u001b[0m \u001b[0mt1\u001b[0m\u001b[0;34m[\u001b[0m\u001b[0;36m5\u001b[0m\u001b[0;34m]\u001b[0m\u001b[0;34m=\u001b[0m\u001b[0msecond_entry\u001b[0m\u001b[0;34m\u001b[0m\u001b[0;34m\u001b[0m\u001b[0m\n\u001b[1;32m      5\u001b[0m \u001b[0mt1\u001b[0m\u001b[0;34m[\u001b[0m\u001b[0;36m6\u001b[0m\u001b[0;34m]\u001b[0m\u001b[0;34m=\u001b[0m\u001b[0mfirst_entry\u001b[0m\u001b[0;34m\u001b[0m\u001b[0;34m\u001b[0m\u001b[0m\n\u001b[0;32m----> 6\u001b[0;31m \u001b[0mcissa_reordered_numeric\u001b[0m \u001b[0;34m=\u001b[0m \u001b[0mCissa\u001b[0m\u001b[0;34m(\u001b[0m\u001b[0mt\u001b[0m\u001b[0;34m=\u001b[0m\u001b[0mt1\u001b[0m\u001b[0;34m,\u001b[0m\u001b[0mx\u001b[0m\u001b[0;34m=\u001b[0m\u001b[0mdata\u001b[0m\u001b[0;34m[\u001b[0m\u001b[0;34m'Electric power consumption in Spain'\u001b[0m\u001b[0;34m]\u001b[0m\u001b[0;34m)\u001b[0m\u001b[0;34m\u001b[0m\u001b[0;34m\u001b[0m\u001b[0m\n\u001b[0m\u001b[1;32m      7\u001b[0m \u001b[0mprint\u001b[0m\u001b[0;34m(\u001b[0m\u001b[0mset\u001b[0m\u001b[0;34m(\u001b[0m\u001b[0;34m[\u001b[0m\u001b[0mtype\u001b[0m\u001b[0;34m(\u001b[0m\u001b[0mitem\u001b[0m\u001b[0;34m)\u001b[0m \u001b[0;32mfor\u001b[0m \u001b[0mitem\u001b[0m \u001b[0;32min\u001b[0m \u001b[0mt1\u001b[0m\u001b[0;34m]\u001b[0m\u001b[0;34m)\u001b[0m\u001b[0;34m)\u001b[0m\u001b[0;34m\u001b[0m\u001b[0;34m\u001b[0m\u001b[0m\n",
      "\u001b[0;32m~/MEGA/Python stuff/Projects/2022/CiSSA/pycissa/pycissa/processing/cissa/cissa.py\u001b[0m in \u001b[0;36m__init__\u001b[0;34m(self, t, x, use_32_bit)\u001b[0m\n\u001b[1;32m     98\u001b[0m         \u001b[0mself\u001b[0m\u001b[0;34m.\u001b[0m\u001b[0muse_32_bit\u001b[0m \u001b[0;34m=\u001b[0m \u001b[0muse_32_bit\u001b[0m \u001b[0;31m# Assign attribute first\u001b[0m\u001b[0;34m\u001b[0m\u001b[0;34m\u001b[0m\u001b[0m\n\u001b[1;32m     99\u001b[0m         \u001b[0;31m# perform initial checks to ensure input variables are numpy arrays of the correct shape.\u001b[0m\u001b[0;34m\u001b[0m\u001b[0;34m\u001b[0m\u001b[0m\n\u001b[0;32m--> 100\u001b[0;31m         \u001b[0mt\u001b[0m\u001b[0;34m,\u001b[0m\u001b[0mx\u001b[0m \u001b[0;34m=\u001b[0m \u001b[0minitial_data_checks\u001b[0m\u001b[0;34m(\u001b[0m\u001b[0mt\u001b[0m\u001b[0;34m,\u001b[0m\u001b[0mx\u001b[0m\u001b[0;34m,\u001b[0m\u001b[0mself\u001b[0m\u001b[0;34m.\u001b[0m\u001b[0muse_32_bit\u001b[0m\u001b[0;34m)\u001b[0m\u001b[0;34m\u001b[0m\u001b[0;34m\u001b[0m\u001b[0m\n\u001b[0m\u001b[1;32m    101\u001b[0m         \u001b[0mself\u001b[0m\u001b[0;34m.\u001b[0m\u001b[0mx_raw\u001b[0m \u001b[0;34m=\u001b[0m \u001b[0mx\u001b[0m \u001b[0;31m#array of corresponding data\u001b[0m\u001b[0;34m\u001b[0m\u001b[0;34m\u001b[0m\u001b[0m\n\u001b[1;32m    102\u001b[0m         \u001b[0mself\u001b[0m\u001b[0;34m.\u001b[0m\u001b[0mt_raw\u001b[0m \u001b[0;34m=\u001b[0m \u001b[0mt\u001b[0m \u001b[0;31m#array of corresponding data\u001b[0m\u001b[0;34m\u001b[0m\u001b[0;34m\u001b[0m\u001b[0m\n",
      "\u001b[0;32m~/MEGA/Python stuff/Projects/2022/CiSSA/pycissa/pycissa/processing/cissa/cissa.py\u001b[0m in \u001b[0;36minitial_data_checks\u001b[0;34m(t, x, use_32_bit)\u001b[0m\n\u001b[1;32m     86\u001b[0m         \u001b[0;32mfor\u001b[0m \u001b[0mi\u001b[0m \u001b[0;32min\u001b[0m \u001b[0mrange\u001b[0m\u001b[0;34m(\u001b[0m\u001b[0mlen\u001b[0m\u001b[0;34m(\u001b[0m\u001b[0mt\u001b[0m\u001b[0;34m)\u001b[0m \u001b[0;34m-\u001b[0m \u001b[0;36m1\u001b[0m\u001b[0;34m)\u001b[0m\u001b[0;34m:\u001b[0m\u001b[0;34m\u001b[0m\u001b[0;34m\u001b[0m\u001b[0m\n\u001b[1;32m     87\u001b[0m             \u001b[0;32mif\u001b[0m \u001b[0mt\u001b[0m\u001b[0;34m[\u001b[0m\u001b[0mi\u001b[0m\u001b[0;34m+\u001b[0m\u001b[0;36m1\u001b[0m\u001b[0;34m]\u001b[0m \u001b[0;34m<\u001b[0m \u001b[0mt\u001b[0m\u001b[0;34m[\u001b[0m\u001b[0mi\u001b[0m\u001b[0;34m]\u001b[0m\u001b[0;34m:\u001b[0m\u001b[0;34m\u001b[0m\u001b[0;34m\u001b[0m\u001b[0m\n\u001b[0;32m---> 88\u001b[0;31m                 \u001b[0;32mraise\u001b[0m \u001b[0mValueError\u001b[0m\u001b[0;34m(\u001b[0m\u001b[0;34mf\"Time vector t is not sorted in ascending order. Element {t[i+1]} at index {i+1} is less than preceding element {t[i]} at index {i}.\"\u001b[0m\u001b[0;34m)\u001b[0m\u001b[0;34m\u001b[0m\u001b[0;34m\u001b[0m\u001b[0m\n\u001b[0m\u001b[1;32m     89\u001b[0m     \u001b[0;32mreturn\u001b[0m \u001b[0mt\u001b[0m\u001b[0;34m,\u001b[0m\u001b[0mx\u001b[0m\u001b[0;34m\u001b[0m\u001b[0;34m\u001b[0m\u001b[0m\n\u001b[1;32m     90\u001b[0m \u001b[0;34m\u001b[0m\u001b[0m\n",
      "\u001b[0;31mValueError\u001b[0m: Time vector t is not sorted in ascending order. Element 5 at index 6 is less than preceding element 6 at index 5."
     ]
    }
   ],
   "source": [
    "t1 = list(range(len(data['Electric power consumption in Spain'])))\n",
    "first_entry= t1[5]\n",
    "second_entry= t1[6]\n",
    "t1[5]=second_entry\n",
    "t1[6]=first_entry\n",
    "cissa_reordered_numeric = Cissa(t=t1,x=data['Electric power consumption in Spain'])\n",
    "print(set([type(item) for item in t1]))"
   ]
  },
  {
   "cell_type": "code",
   "execution_count": null,
   "id": "eb393848",
   "metadata": {},
   "outputs": [],
   "source": []
  },
  {
   "cell_type": "markdown",
   "id": "d8de1f45",
   "metadata": {},
   "source": [
    "## mixed format"
   ]
  },
  {
   "cell_type": "code",
   "execution_count": 10,
   "id": "e099d8cd",
   "metadata": {},
   "outputs": [
    {
     "name": "stderr",
     "output_type": "stream",
     "text": [
      "/tmp/ipykernel_20135/287631359.py:2: FutureWarning: Setting an item of incompatible dtype is deprecated and will raise in a future error of pandas. Value '5' has dtype incompatible with datetime64[ns], please explicitly cast to a compatible dtype first.\n",
      "  t0[5] = 5\n"
     ]
    },
    {
     "ename": "TypeError",
     "evalue": "Time vector t contains mixed data types: [<class 'pandas._libs.tslibs.timestamps.Timestamp'>, <class 'int'>]",
     "output_type": "error",
     "traceback": [
      "\u001b[0;31m---------------------------------------------------------------------------\u001b[0m",
      "\u001b[0;31mTypeError\u001b[0m                                 Traceback (most recent call last)",
      "\u001b[0;32m/tmp/ipykernel_20135/287631359.py\u001b[0m in \u001b[0;36m<cell line: 3>\u001b[0;34m()\u001b[0m\n\u001b[1;32m      1\u001b[0m \u001b[0mt0\u001b[0m \u001b[0;34m=\u001b[0m \u001b[0mcopy\u001b[0m\u001b[0;34m.\u001b[0m\u001b[0mdeepcopy\u001b[0m\u001b[0;34m(\u001b[0m\u001b[0mdata\u001b[0m\u001b[0;34m[\u001b[0m\u001b[0;34m'Date'\u001b[0m\u001b[0;34m]\u001b[0m\u001b[0;34m)\u001b[0m\u001b[0;34m\u001b[0m\u001b[0;34m\u001b[0m\u001b[0m\n\u001b[1;32m      2\u001b[0m \u001b[0mt0\u001b[0m\u001b[0;34m[\u001b[0m\u001b[0;36m5\u001b[0m\u001b[0;34m]\u001b[0m \u001b[0;34m=\u001b[0m \u001b[0;36m5\u001b[0m\u001b[0;34m\u001b[0m\u001b[0;34m\u001b[0m\u001b[0m\n\u001b[0;32m----> 3\u001b[0;31m \u001b[0mcissa_reordered\u001b[0m \u001b[0;34m=\u001b[0m \u001b[0mCissa\u001b[0m\u001b[0;34m(\u001b[0m\u001b[0mt\u001b[0m\u001b[0;34m=\u001b[0m\u001b[0mt0\u001b[0m\u001b[0;34m,\u001b[0m\u001b[0mx\u001b[0m\u001b[0;34m=\u001b[0m\u001b[0mdata\u001b[0m\u001b[0;34m[\u001b[0m\u001b[0;34m'Electric power consumption in Spain'\u001b[0m\u001b[0;34m]\u001b[0m\u001b[0;34m)\u001b[0m\u001b[0;34m\u001b[0m\u001b[0;34m\u001b[0m\u001b[0m\n\u001b[0m",
      "\u001b[0;32m~/MEGA/Python stuff/Projects/2022/CiSSA/pycissa/pycissa/processing/cissa/cissa.py\u001b[0m in \u001b[0;36m__init__\u001b[0;34m(self, t, x, use_32_bit)\u001b[0m\n\u001b[1;32m     98\u001b[0m         \u001b[0mself\u001b[0m\u001b[0;34m.\u001b[0m\u001b[0muse_32_bit\u001b[0m \u001b[0;34m=\u001b[0m \u001b[0muse_32_bit\u001b[0m \u001b[0;31m# Assign attribute first\u001b[0m\u001b[0;34m\u001b[0m\u001b[0;34m\u001b[0m\u001b[0m\n\u001b[1;32m     99\u001b[0m         \u001b[0;31m# perform initial checks to ensure input variables are numpy arrays of the correct shape.\u001b[0m\u001b[0;34m\u001b[0m\u001b[0;34m\u001b[0m\u001b[0m\n\u001b[0;32m--> 100\u001b[0;31m         \u001b[0mt\u001b[0m\u001b[0;34m,\u001b[0m\u001b[0mx\u001b[0m \u001b[0;34m=\u001b[0m \u001b[0minitial_data_checks\u001b[0m\u001b[0;34m(\u001b[0m\u001b[0mt\u001b[0m\u001b[0;34m,\u001b[0m\u001b[0mx\u001b[0m\u001b[0;34m,\u001b[0m\u001b[0mself\u001b[0m\u001b[0;34m.\u001b[0m\u001b[0muse_32_bit\u001b[0m\u001b[0;34m)\u001b[0m\u001b[0;34m\u001b[0m\u001b[0;34m\u001b[0m\u001b[0m\n\u001b[0m\u001b[1;32m    101\u001b[0m         \u001b[0mself\u001b[0m\u001b[0;34m.\u001b[0m\u001b[0mx_raw\u001b[0m \u001b[0;34m=\u001b[0m \u001b[0mx\u001b[0m \u001b[0;31m#array of corresponding data\u001b[0m\u001b[0;34m\u001b[0m\u001b[0;34m\u001b[0m\u001b[0m\n\u001b[1;32m    102\u001b[0m         \u001b[0mself\u001b[0m\u001b[0;34m.\u001b[0m\u001b[0mt_raw\u001b[0m \u001b[0;34m=\u001b[0m \u001b[0mt\u001b[0m \u001b[0;31m#array of corresponding data\u001b[0m\u001b[0;34m\u001b[0m\u001b[0;34m\u001b[0m\u001b[0m\n",
      "\u001b[0;32m~/MEGA/Python stuff/Projects/2022/CiSSA/pycissa/pycissa/processing/cissa/cissa.py\u001b[0m in \u001b[0;36minitial_data_checks\u001b[0;34m(t, x, use_32_bit)\u001b[0m\n\u001b[1;32m     79\u001b[0m         \u001b[0mis_all_numeric\u001b[0m \u001b[0;34m=\u001b[0m \u001b[0mall\u001b[0m\u001b[0;34m(\u001b[0m\u001b[0missubclass\u001b[0m\u001b[0;34m(\u001b[0m\u001b[0mtyp\u001b[0m\u001b[0;34m,\u001b[0m \u001b[0;34m(\u001b[0m\u001b[0mint\u001b[0m\u001b[0;34m,\u001b[0m \u001b[0mfloat\u001b[0m\u001b[0;34m,\u001b[0m \u001b[0mnp\u001b[0m\u001b[0;34m.\u001b[0m\u001b[0minteger\u001b[0m\u001b[0;34m,\u001b[0m \u001b[0mnp\u001b[0m\u001b[0;34m.\u001b[0m\u001b[0mfloating\u001b[0m\u001b[0;34m)\u001b[0m\u001b[0;34m)\u001b[0m \u001b[0;32mfor\u001b[0m \u001b[0mtyp\u001b[0m \u001b[0;32min\u001b[0m \u001b[0munique_types\u001b[0m\u001b[0;34m)\u001b[0m\u001b[0;34m\u001b[0m\u001b[0;34m\u001b[0m\u001b[0m\n\u001b[1;32m     80\u001b[0m         \u001b[0;32mif\u001b[0m \u001b[0;32mnot\u001b[0m \u001b[0mis_all_numeric\u001b[0m\u001b[0;34m:\u001b[0m\u001b[0;34m\u001b[0m\u001b[0;34m\u001b[0m\u001b[0m\n\u001b[0;32m---> 81\u001b[0;31m             \u001b[0;32mraise\u001b[0m \u001b[0mTypeError\u001b[0m\u001b[0;34m(\u001b[0m\u001b[0;34mf\"Time vector t contains mixed data types: {list(unique_types)}\"\u001b[0m\u001b[0;34m)\u001b[0m\u001b[0;34m\u001b[0m\u001b[0;34m\u001b[0m\u001b[0m\n\u001b[0m\u001b[1;32m     82\u001b[0m \u001b[0;34m\u001b[0m\u001b[0m\n\u001b[1;32m     83\u001b[0m     \u001b[0;31m# Order Check for t\u001b[0m\u001b[0;34m\u001b[0m\u001b[0;34m\u001b[0m\u001b[0m\n",
      "\u001b[0;31mTypeError\u001b[0m: Time vector t contains mixed data types: [<class 'pandas._libs.tslibs.timestamps.Timestamp'>, <class 'int'>]"
     ]
    }
   ],
   "source": [
    "t0 = copy.deepcopy(data['Date'])\n",
    "t0[5] = 5\n",
    "cissa_reordered = Cissa(t=t0,x=data['Electric power consumption in Spain'])"
   ]
  },
  {
   "cell_type": "code",
   "execution_count": null,
   "id": "b2324189",
   "metadata": {},
   "outputs": [],
   "source": []
  },
  {
   "cell_type": "markdown",
   "id": "274073dc",
   "metadata": {},
   "source": [
    "## add a different date format as a string"
   ]
  },
  {
   "cell_type": "code",
   "execution_count": null,
   "id": "e8a53f02",
   "metadata": {},
   "outputs": [],
   "source": []
  },
  {
   "cell_type": "code",
   "execution_count": null,
   "id": "9d377555",
   "metadata": {},
   "outputs": [],
   "source": [
    "t2 = copy.deepcopy(data['Date'])\n",
    "t2[0] = '1901-01-30'\n",
    "t2[1] = '1911/01/30'\n",
    "cissa_string = Cissa(t=t2,x=data['Electric power consumption in Spain'])\n",
    "\n",
    "print(cissa_string.t[0:10])"
   ]
  },
  {
   "cell_type": "markdown",
   "id": "9fe84d9e",
   "metadata": {},
   "source": [
    "## with some nan"
   ]
  },
  {
   "cell_type": "code",
   "execution_count": null,
   "id": "7b14290e",
   "metadata": {},
   "outputs": [],
   "source": [
    "t3 = copy.deepcopy(data['Date'])\n",
    "t3[-1] = np.nan\n",
    "cissa_nan = Cissa(t=t3,x=data['Electric power consumption in Spain'])"
   ]
  },
  {
   "cell_type": "code",
   "execution_count": null,
   "id": "ac52f1af",
   "metadata": {},
   "outputs": [],
   "source": [
    "t3[-1] is np.datetime64('NaT')"
   ]
  },
  {
   "cell_type": "code",
   "execution_count": null,
   "id": "98586bef",
   "metadata": {},
   "outputs": [],
   "source": [
    "type(t3[-1])"
   ]
  },
  {
   "cell_type": "code",
   "execution_count": null,
   "id": "794e851b",
   "metadata": {},
   "outputs": [],
   "source": [
    "type(t3[-1]).__name__ == 'NaTType'"
   ]
  },
  {
   "cell_type": "code",
   "execution_count": null,
   "id": "88b370f1",
   "metadata": {},
   "outputs": [],
   "source": [
    "np.isnat('elem')"
   ]
  },
  {
   "cell_type": "code",
   "execution_count": null,
   "id": "8c679956",
   "metadata": {},
   "outputs": [],
   "source": []
  }
 ],
 "metadata": {
  "kernelspec": {
   "display_name": "Python 3 (ipykernel)",
   "language": "python",
   "name": "python3"
  },
  "language_info": {
   "codemirror_mode": {
    "name": "ipython",
    "version": 3
   },
   "file_extension": ".py",
   "mimetype": "text/x-python",
   "name": "python",
   "nbconvert_exporter": "python",
   "pygments_lexer": "ipython3",
   "version": "3.10.6"
  }
 },
 "nbformat": 4,
 "nbformat_minor": 5
}
