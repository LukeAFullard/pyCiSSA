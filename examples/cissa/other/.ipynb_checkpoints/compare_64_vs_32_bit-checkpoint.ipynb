{
 "cells": [
  {
   "cell_type": "code",
   "execution_count": 1,
   "id": "e4a38a88",
   "metadata": {},
   "outputs": [],
   "source": [
    "import time\n",
    "import tracemalloc"
   ]
  },
  {
   "cell_type": "code",
   "execution_count": 2,
   "id": "72b742b8",
   "metadata": {},
   "outputs": [],
   "source": [
    "#importing required packages\n",
    "import pandas as pd\n",
    "import numpy as np\n",
    "import os\n",
    "os.chdir('../../..')\n",
    "home_path = os.path.abspath('')\n",
    "from pycissa import Cissa\n",
    "os.chdir(home_path)"
   ]
  },
  {
   "cell_type": "code",
   "execution_count": 3,
   "id": "d89a607d",
   "metadata": {},
   "outputs": [],
   "source": [
    "## Read data file  (source is the Ministry of Economy of Spain.)\n",
    "data = pd.read_excel(home_path + r'/data/EPC.xlsx',sheet_name = 'Data')"
   ]
  },
  {
   "cell_type": "markdown",
   "id": "898102ec",
   "metadata": {},
   "source": [
    "# 64 bit Cissa"
   ]
  },
  {
   "cell_type": "code",
   "execution_count": 4,
   "id": "a4404a35",
   "metadata": {},
   "outputs": [],
   "source": [
    "start_time = time.perf_counter()\n",
    "tracemalloc.start()"
   ]
  },
  {
   "cell_type": "code",
   "execution_count": 5,
   "id": "61727782",
   "metadata": {},
   "outputs": [],
   "source": [
    "#create the cissa object\n",
    "cissa_64 = Cissa(t=data['Date'],x=data['Electric power consumption in Spain'])"
   ]
  },
  {
   "cell_type": "code",
   "execution_count": 6,
   "id": "960c2c93",
   "metadata": {},
   "outputs": [
    {
     "name": "stdout",
     "output_type": "stream",
     "text": [
      "Checking for censored or nan data...\n",
      "RUNNING CISSA!\n",
      "Performing monte-carlo significance analysis...\n",
      "Grouping components...\n",
      "Running frequency time analysis...\n",
      "Analysing trend...\n",
      "Calculating time-series autocorrelation...\n",
      "running peridogram analysis\n",
      "\n",
      "                 Breakpoint Model Comparision Results                 \n",
      "====================================================================================================\n",
      "n_breakpoints            BIC    converged          RSS \n",
      "----------------------------------------------------------------------------------------------------\n",
      "0                     -203.4         True       2.8387 \n",
      "1                    -212.15         True       2.1974 \n",
      "\n",
      "Min BIC (Bayesian Information Criterion) suggests best model\n",
      "Auto Cissa Complete!\n"
     ]
    },
    {
     "data": {
      "text/plain": [
       "<pycissa.processing.cissa.cissa.Cissa at 0x7fb587405840>"
      ]
     },
     "execution_count": 6,
     "metadata": {},
     "output_type": "execute_result"
    }
   ],
   "source": [
    "#here we choose a window length of 12 years.\n",
    "cissa_64.auto_cissa(L = 12*12,\n",
    "                       K_surrogates = 5, alpha = 0.05,  #settings some parameters for the Monte-Carlo routine\n",
    "                       )"
   ]
  },
  {
   "cell_type": "code",
   "execution_count": 7,
   "id": "8d75d8f1",
   "metadata": {},
   "outputs": [
    {
     "name": "stdout",
     "output_type": "stream",
     "text": [
      "Time taken: 115.7156 seconds\n",
      "Current memory usage: 68213.73 KB\n",
      "Peak memory usage: 75161.95 KB\n"
     ]
    }
   ],
   "source": [
    "# Stop tracking\n",
    "end_time = time.perf_counter()\n",
    "current, peak = tracemalloc.get_traced_memory()\n",
    "tracemalloc.stop()\n",
    "\n",
    "# Report results\n",
    "print(f\"Time taken: {end_time - start_time:.4f} seconds\")\n",
    "print(f\"Current memory usage: {current / 1024:.2f} KB\")\n",
    "print(f\"Peak memory usage: {peak / 1024:.2f} KB\")"
   ]
  },
  {
   "cell_type": "code",
   "execution_count": null,
   "id": "bef064d0",
   "metadata": {},
   "outputs": [],
   "source": []
  },
  {
   "cell_type": "markdown",
   "id": "facfccde",
   "metadata": {},
   "source": [
    "# 32 bit Cissa"
   ]
  },
  {
   "cell_type": "code",
   "execution_count": 8,
   "id": "88ea6da6",
   "metadata": {},
   "outputs": [],
   "source": [
    "start_time = time.perf_counter()\n",
    "tracemalloc.start()"
   ]
  },
  {
   "cell_type": "code",
   "execution_count": 9,
   "id": "456aedbc",
   "metadata": {},
   "outputs": [],
   "source": [
    "#create the cissa object\n",
    "cissa_32 = Cissa(t=data['Date'],x=data['Electric power consumption in Spain'],use_32_bit=True)"
   ]
  },
  {
   "cell_type": "code",
   "execution_count": 10,
   "id": "c0d312c1",
   "metadata": {},
   "outputs": [
    {
     "name": "stdout",
     "output_type": "stream",
     "text": [
      "Checking for censored or nan data...\n",
      "RUNNING CISSA!\n",
      "Performing monte-carlo significance analysis...\n",
      "Grouping components...\n",
      "Running frequency time analysis...\n",
      "Analysing trend...\n",
      "Calculating time-series autocorrelation...\n",
      "running peridogram analysis\n",
      "\n",
      "                 Breakpoint Model Comparision Results                 \n",
      "====================================================================================================\n",
      "n_breakpoints            BIC    converged          RSS \n",
      "----------------------------------------------------------------------------------------------------\n",
      "0                     -203.4         True       2.8386 \n",
      "1                    -212.15         True       2.1974 \n",
      "\n",
      "Min BIC (Bayesian Information Criterion) suggests best model\n",
      "Auto Cissa Complete!\n"
     ]
    },
    {
     "data": {
      "text/plain": [
       "<pycissa.processing.cissa.cissa.Cissa at 0x7fb57084ca00>"
      ]
     },
     "execution_count": 10,
     "metadata": {},
     "output_type": "execute_result"
    }
   ],
   "source": [
    "#here we choose a window length of 12 years.\n",
    "cissa_32.auto_cissa(L = 12*12,\n",
    "                       K_surrogates = 5, alpha = 0.05,  #settings some parameters for the Monte-Carlo routine\n",
    "                       )"
   ]
  },
  {
   "cell_type": "code",
   "execution_count": 11,
   "id": "f58fd160",
   "metadata": {},
   "outputs": [
    {
     "name": "stdout",
     "output_type": "stream",
     "text": [
      "Time taken: 110.3960 seconds\n",
      "Current memory usage: 20149.21 KB\n",
      "Peak memory usage: 27144.02 KB\n"
     ]
    }
   ],
   "source": [
    "# Stop tracking\n",
    "end_time = time.perf_counter()\n",
    "current, peak = tracemalloc.get_traced_memory()\n",
    "tracemalloc.stop()\n",
    "\n",
    "# Report results\n",
    "print(f\"Time taken: {end_time - start_time:.4f} seconds\")\n",
    "print(f\"Current memory usage: {current / 1024:.2f} KB\")\n",
    "print(f\"Peak memory usage: {peak / 1024:.2f} KB\")"
   ]
  },
  {
   "cell_type": "code",
   "execution_count": null,
   "id": "4efe8daa",
   "metadata": {},
   "outputs": [],
   "source": []
  },
  {
   "cell_type": "markdown",
   "id": "96ad93a4",
   "metadata": {},
   "source": [
    "## While the 32 bit version is not much faster, it uses significantly less memory. Let's just check the results are comparable... "
   ]
  },
  {
   "cell_type": "code",
   "execution_count": 27,
   "id": "5bb174a9",
   "metadata": {},
   "outputs": [
    {
     "name": "stdout",
     "output_type": "stream",
     "text": [
      "minimum difference =  3.1082995567447046e-10\n",
      "maximum difference =  0.00011398413203633705\n",
      "mean difference =  1.0012433420210592e-05\n"
     ]
    }
   ],
   "source": [
    "trend_error = 100*(cissa_64.x_trend-cissa_32.x_trend)/cissa_64.x_trend\n",
    "print(\"minimum difference = \", min(abs(trend_error)))\n",
    "print(\"maximum difference = \", max(abs(trend_error)))\n",
    "print(\"mean difference = \", np.mean(abs(trend_error)))"
   ]
  },
  {
   "cell_type": "markdown",
   "id": "31f2c12c",
   "metadata": {},
   "source": [
    "### The trend component between the 32 and 64 bit version is comparable."
   ]
  },
  {
   "cell_type": "code",
   "execution_count": 28,
   "id": "4c92e0f9",
   "metadata": {},
   "outputs": [
    {
     "name": "stdout",
     "output_type": "stream",
     "text": [
      "minimum difference =  1.5345606975621093e-07\n",
      "maximum difference =  0.01814678290131533\n",
      "mean difference =  0.0004375507788329488\n"
     ]
    }
   ],
   "source": [
    "periodic_error = 100*(cissa_64.x_periodic-cissa_32.x_periodic)/cissa_64.x_periodic\n",
    "print(\"minimum difference = \", min(abs(periodic_error)))\n",
    "print(\"maximum difference = \", max(abs(periodic_error)))\n",
    "print(\"mean difference = \", np.mean(abs(periodic_error)))"
   ]
  },
  {
   "cell_type": "markdown",
   "id": "0c3ccfe9",
   "metadata": {},
   "source": [
    "### The periodic component between the 32 and 64 bit version is comparable."
   ]
  },
  {
   "cell_type": "code",
   "execution_count": 29,
   "id": "31ce5c24",
   "metadata": {},
   "outputs": [
    {
     "name": "stdout",
     "output_type": "stream",
     "text": [
      "minimum difference =  3.0111577993797684e-07\n",
      "maximum difference =  0.36563774479336253\n",
      "mean difference =  0.001975726360124699\n"
     ]
    }
   ],
   "source": [
    "noise_error = 100*(cissa_64.x_noise-cissa_32.x_noise)/cissa_64.x_noise\n",
    "print(\"minimum difference = \", min(abs(noise_error)))\n",
    "print(\"maximum difference = \", max(abs(noise_error)))\n",
    "print(\"mean difference = \", np.mean(abs(noise_error)))"
   ]
  },
  {
   "cell_type": "markdown",
   "id": "4f03a037",
   "metadata": {},
   "source": [
    "### The noise component between the 32 and 64 bit version is comparable."
   ]
  },
  {
   "cell_type": "code",
   "execution_count": null,
   "id": "887edccc",
   "metadata": {},
   "outputs": [],
   "source": []
  }
 ],
 "metadata": {
  "kernelspec": {
   "display_name": "Python (pycissa_test)",
   "language": "python",
   "name": "pycissa_test"
  },
  "language_info": {
   "codemirror_mode": {
    "name": "ipython",
    "version": 3
   },
   "file_extension": ".py",
   "mimetype": "text/x-python",
   "name": "python",
   "nbconvert_exporter": "python",
   "pygments_lexer": "ipython3",
   "version": "3.10.16"
  }
 },
 "nbformat": 4,
 "nbformat_minor": 5
}
