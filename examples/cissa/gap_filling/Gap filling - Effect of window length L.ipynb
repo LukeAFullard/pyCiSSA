{
 "cells": [
  {
   "cell_type": "markdown",
   "id": "137fe1cd",
   "metadata": {},
   "source": [
    "# Gap filling - when is the effect of L?"
   ]
  },
  {
   "cell_type": "code",
   "execution_count": null,
   "id": "7cbc72d9",
   "metadata": {},
   "outputs": [],
   "source": [
    "#importing required packages\n",
    "import pandas as pd\n",
    "import numpy as np\n",
    "import copy\n",
    "import os\n",
    "import warnings\n",
    "warnings.filterwarnings('ignore')\n",
    "dir_path = os.path.abspath('')\n",
    "os.chdir('../../..')\n",
    "home_path = os.path.abspath('')\n",
    "os.chdir('./pycissa/processing/cissa')\n",
    "from cissa import Cissa\n",
    "os.chdir(home_path)"
   ]
  },
  {
   "cell_type": "code",
   "execution_count": null,
   "id": "1e361bc8",
   "metadata": {},
   "outputs": [],
   "source": [
    "## Read data file  (source is the Ministry of Economy of Spain.)\n",
    "data = pd.read_excel(home_path + r'/data/EPC.xlsx',sheet_name = 'Data')"
   ]
  },
  {
   "cell_type": "code",
   "execution_count": null,
   "id": "c08adfc0",
   "metadata": {},
   "outputs": [],
   "source": [
    "data_with_gaps = copy.deepcopy(data)\n",
    "data_with_gaps['Electric power consumption in Spain'][100] = np.nan\n",
    "data_with_gaps['Electric power consumption in Spain'][200] = np.nan\n",
    "data_with_gaps['Electric power consumption in Spain'][300] = np.nan\n",
    "data_with_gaps['Electric power consumption in Spain'][400] = np.nan\n",
    "data_with_gaps['Electric power consumption in Spain'][500] = np.nan\n",
    "print(data_with_gaps['Electric power consumption in Spain'][499:502])"
   ]
  },
  {
   "cell_type": "code",
   "execution_count": null,
   "id": "5c41002c",
   "metadata": {},
   "outputs": [],
   "source": [
    "\n"
   ]
  },
  {
   "cell_type": "markdown",
   "id": "eff687e7",
   "metadata": {},
   "source": [
    "## L = 12 (1 year)"
   ]
  },
  {
   "cell_type": "code",
   "execution_count": null,
   "id": "79c2273d",
   "metadata": {},
   "outputs": [],
   "source": [
    "#create the cissa object\n",
    "cissa_object_L_12 = Cissa(t=data_with_gaps['Date'],x=data_with_gaps['Electric power consumption in Spain'])\n",
    "cissa_object_L_12.pre_fill_gaps(L = 12*1,\n",
    "                       K_surrogates = 3, alpha = 0.1,  #settings some parameters for the Monte-Carlo routine\n",
    "                       test_number = 20, test_repeats=10, #These settings help us to understand the error during gap filling\n",
    "                       initial_guess = ['previous', 1.25], #this means we set missing values to the previous good value multiplied by 1.25 \n",
    "                        max_iter = 1000, #ensuring we have enough iterations to converge\n",
    "                        convergence = ['value', 500], #convergence value    \n",
    "                        verbose = True    \n",
    "                       )\n",
    "cissa_object_L_12.figures.get('cissa').get('figure_gap_fill_error')"
   ]
  },
  {
   "cell_type": "code",
   "execution_count": null,
   "id": "3cf5672f",
   "metadata": {},
   "outputs": [],
   "source": []
  },
  {
   "cell_type": "markdown",
   "id": "5ffefd43",
   "metadata": {},
   "source": [
    "## L = 24 (2 years)"
   ]
  },
  {
   "cell_type": "code",
   "execution_count": null,
   "id": "58720de8",
   "metadata": {},
   "outputs": [],
   "source": [
    "#create the cissa object\n",
    "cissa_object_L_24 = Cissa(t=data_with_gaps['Date'],x=data_with_gaps['Electric power consumption in Spain'])\n",
    "cissa_object_L_24.pre_fill_gaps(L = 12*2,\n",
    "                       K_surrogates = 3, alpha = 0.1,  #settings some parameters for the Monte-Carlo routine\n",
    "                       test_number = 20, test_repeats=10, #These settings help us to understand the error during gap filling\n",
    "                       initial_guess = ['previous', 1.25], #this means we set missing values to the previous good value multiplied by 1.25 \n",
    "                        max_iter = 1000, #ensuring we have enough iterations to converge\n",
    "                        convergence = ['value', 500], #convergence value    \n",
    "                        verbose = False    \n",
    "                       )\n",
    "cissa_object_L_24.figures.get('cissa').get('figure_gap_fill_error')"
   ]
  },
  {
   "cell_type": "code",
   "execution_count": null,
   "id": "d224d31d",
   "metadata": {},
   "outputs": [],
   "source": []
  },
  {
   "cell_type": "markdown",
   "id": "6250ca4e",
   "metadata": {},
   "source": [
    "## L = 36 (3 years)"
   ]
  },
  {
   "cell_type": "code",
   "execution_count": null,
   "id": "9801e3b9",
   "metadata": {},
   "outputs": [],
   "source": [
    "#create the cissa object\n",
    "cissa_object_L_36 = Cissa(t=data_with_gaps['Date'],x=data_with_gaps['Electric power consumption in Spain'])\n",
    "cissa_object_L_36.pre_fill_gaps(L = 12*3,\n",
    "                       K_surrogates = 3, alpha = 0.1,  #settings some parameters for the Monte-Carlo routine\n",
    "                       test_number = 20, test_repeats=10, #These settings help us to understand the error during gap filling\n",
    "                       initial_guess = ['previous', 1.25], #this means we set missing values to the previous good value multiplied by 1.25 \n",
    "                        max_iter = 1000, #ensuring we have enough iterations to converge\n",
    "                        convergence = ['value', 500], #convergence value    \n",
    "                        verbose = False    \n",
    "                       )\n",
    "cissa_object_L_36.figures.get('cissa').get('figure_gap_fill_error')"
   ]
  },
  {
   "cell_type": "code",
   "execution_count": null,
   "id": "8a5d3a3c",
   "metadata": {},
   "outputs": [],
   "source": []
  },
  {
   "cell_type": "markdown",
   "id": "3e97d006",
   "metadata": {},
   "source": [
    "## L = 48 (4 years)"
   ]
  },
  {
   "cell_type": "code",
   "execution_count": null,
   "id": "790d49c1",
   "metadata": {},
   "outputs": [],
   "source": [
    "#create the cissa object\n",
    "cissa_object_L_48 = Cissa(t=data_with_gaps['Date'],x=data_with_gaps['Electric power consumption in Spain'])\n",
    "cissa_object_L_48.pre_fill_gaps(L = 12*4,\n",
    "                       K_surrogates = 3, alpha = 0.1,  #settings some parameters for the Monte-Carlo routine\n",
    "                       test_number = 20, test_repeats=10, #These settings help us to understand the error during gap filling\n",
    "                       initial_guess = ['previous', 1.25], #this means we set missing values to the previous good value multiplied by 1.25 \n",
    "                        max_iter = 1000, #ensuring we have enough iterations to converge\n",
    "                        convergence = ['value', 500], #convergence value    \n",
    "                        verbose = False    \n",
    "                       )\n",
    "cissa_object_L_48.figures.get('cissa').get('figure_gap_fill_error')"
   ]
  },
  {
   "cell_type": "code",
   "execution_count": null,
   "id": "061e7154",
   "metadata": {},
   "outputs": [],
   "source": []
  },
  {
   "cell_type": "markdown",
   "id": "4a2b6a09",
   "metadata": {},
   "source": [
    "## L = 60 (5 years)"
   ]
  },
  {
   "cell_type": "code",
   "execution_count": null,
   "id": "c33aa811",
   "metadata": {},
   "outputs": [],
   "source": [
    "#create the cissa object\n",
    "cissa_object_L_60 = Cissa(t=data_with_gaps['Date'],x=data_with_gaps['Electric power consumption in Spain'])\n",
    "cissa_object_L_60.pre_fill_gaps(L = 12*5,\n",
    "                       K_surrogates = 3, alpha = 0.1,  #settings some parameters for the Monte-Carlo routine\n",
    "                       test_number = 20, test_repeats=10, #These settings help us to understand the error during gap filling\n",
    "                       initial_guess = ['previous', 1.25], #this means we set missing values to the previous good value multiplied by 1.25 \n",
    "                        max_iter = 1000, #ensuring we have enough iterations to converge\n",
    "                        convergence = ['value', 500], #convergence value    \n",
    "                        verbose = False    \n",
    "                       )\n",
    "cissa_object_L_60.figures.get('cissa').get('figure_gap_fill_error')"
   ]
  },
  {
   "cell_type": "code",
   "execution_count": null,
   "id": "26cf9b30",
   "metadata": {},
   "outputs": [],
   "source": []
  },
  {
   "cell_type": "markdown",
   "id": "fc6624da",
   "metadata": {},
   "source": [
    "## L = 72 (6 years)"
   ]
  },
  {
   "cell_type": "code",
   "execution_count": null,
   "id": "cf4673d6",
   "metadata": {},
   "outputs": [],
   "source": [
    "#create the cissa object\n",
    "cissa_object_L_72 = Cissa(t=data_with_gaps['Date'],x=data_with_gaps['Electric power consumption in Spain'])\n",
    "cissa_object_L_72.pre_fill_gaps(L = 12*6,\n",
    "                       K_surrogates = 3, alpha = 0.1,  #settings some parameters for the Monte-Carlo routine\n",
    "                       test_number = 20, test_repeats=10, #These settings help us to understand the error during gap filling\n",
    "                       initial_guess = ['previous', 1.25], #this means we set missing values to the previous good value multiplied by 1.25 \n",
    "                        max_iter = 1000, #ensuring we have enough iterations to converge\n",
    "                        convergence = ['value', 500], #convergence value    \n",
    "                        verbose = False    \n",
    "                       )\n",
    "cissa_object_L_72.figures.get('cissa').get('figure_gap_fill_error')"
   ]
  },
  {
   "cell_type": "code",
   "execution_count": null,
   "id": "4f9951b9",
   "metadata": {},
   "outputs": [],
   "source": []
  },
  {
   "cell_type": "markdown",
   "id": "61e8f196",
   "metadata": {},
   "source": [
    "## L = 84 (7 years)"
   ]
  },
  {
   "cell_type": "code",
   "execution_count": null,
   "id": "4dab06e4",
   "metadata": {},
   "outputs": [],
   "source": [
    "#create the cissa object\n",
    "cissa_object_L_84 = Cissa(t=data_with_gaps['Date'],x=data_with_gaps['Electric power consumption in Spain'])\n",
    "cissa_object_L_84.pre_fill_gaps(L = 12*7,\n",
    "                       K_surrogates = 3, alpha = 0.1,  #settings some parameters for the Monte-Carlo routine\n",
    "                       test_number = 20, test_repeats=10, #These settings help us to understand the error during gap filling\n",
    "                       initial_guess = ['previous', 1.25], #this means we set missing values to the previous good value multiplied by 1.25 \n",
    "                        max_iter = 1000, #ensuring we have enough iterations to converge\n",
    "                        convergence = ['value', 500], #convergence value    \n",
    "                        verbose = False    \n",
    "                       )\n",
    "cissa_object_L_84.figures.get('cissa').get('figure_gap_fill_error')"
   ]
  },
  {
   "cell_type": "code",
   "execution_count": null,
   "id": "edf442aa",
   "metadata": {},
   "outputs": [],
   "source": []
  },
  {
   "cell_type": "markdown",
   "id": "9850dd78",
   "metadata": {},
   "source": [
    "## L = 96 (8 years)"
   ]
  },
  {
   "cell_type": "code",
   "execution_count": null,
   "id": "e5d9739b",
   "metadata": {},
   "outputs": [],
   "source": [
    "#create the cissa object\n",
    "cissa_object_L_96 = Cissa(t=data_with_gaps['Date'],x=data_with_gaps['Electric power consumption in Spain'])\n",
    "cissa_object_L_96.pre_fill_gaps(L = 12*8,\n",
    "                       K_surrogates = 3, alpha = 0.1,  #settings some parameters for the Monte-Carlo routine\n",
    "                       test_number = 20, test_repeats=10, #These settings help us to understand the error during gap filling\n",
    "                       initial_guess = ['previous', 1.25], #this means we set missing values to the previous good value multiplied by 1.25 \n",
    "                        max_iter = 1000, #ensuring we have enough iterations to converge\n",
    "                        convergence = ['value', 500], #convergence value    \n",
    "                        verbose = False    \n",
    "                       )\n",
    "cissa_object_L_96.figures.get('cissa').get('figure_gap_fill_error')"
   ]
  },
  {
   "cell_type": "code",
   "execution_count": null,
   "id": "b6d8cd1a",
   "metadata": {},
   "outputs": [],
   "source": []
  },
  {
   "cell_type": "markdown",
   "id": "2dbb87d9",
   "metadata": {},
   "source": [
    "## L = 108 (9 years)"
   ]
  },
  {
   "cell_type": "code",
   "execution_count": null,
   "id": "8d751312",
   "metadata": {},
   "outputs": [],
   "source": [
    "#create the cissa object\n",
    "cissa_object_L_108 = Cissa(t=data_with_gaps['Date'],x=data_with_gaps['Electric power consumption in Spain'])\n",
    "cissa_object_L_108.pre_fill_gaps(L = 12*9,\n",
    "                       K_surrogates = 3, alpha = 0.1,  #settings some parameters for the Monte-Carlo routine\n",
    "                       test_number = 20, test_repeats=10, #These settings help us to understand the error during gap filling\n",
    "                       initial_guess = ['previous', 1.25], #this means we set missing values to the previous good value multiplied by 1.25 \n",
    "                        max_iter = 1000, #ensuring we have enough iterations to converge\n",
    "                        convergence = ['value', 500], #convergence value    \n",
    "                        verbose = False    \n",
    "                       )\n",
    "cissa_object_L_108.figures.get('cissa').get('figure_gap_fill_error')"
   ]
  },
  {
   "cell_type": "code",
   "execution_count": null,
   "id": "34d60419",
   "metadata": {},
   "outputs": [],
   "source": []
  },
  {
   "cell_type": "markdown",
   "id": "93d8751c",
   "metadata": {},
   "source": [
    "## L = 120 (10 years)"
   ]
  },
  {
   "cell_type": "code",
   "execution_count": null,
   "id": "9d943fea",
   "metadata": {},
   "outputs": [],
   "source": [
    "#create the cissa object\n",
    "cissa_object_L_120 = Cissa(t=data_with_gaps['Date'],x=data_with_gaps['Electric power consumption in Spain'])\n",
    "cissa_object_L_120.pre_fill_gaps(L = 12*10,\n",
    "                       K_surrogates = 3, alpha = 0.1,  #settings some parameters for the Monte-Carlo routine\n",
    "                       test_number = 20, test_repeats=10, #These settings help us to understand the error during gap filling\n",
    "                       initial_guess = ['previous', 1.25], #this means we set missing values to the previous good value multiplied by 1.25 \n",
    "                        max_iter = 1000, #ensuring we have enough iterations to converge\n",
    "                        convergence = ['value', 500], #convergence value    \n",
    "                        verbose = False    \n",
    "                       )\n",
    "cissa_object_L_120.figures.get('cissa').get('figure_gap_fill_error')"
   ]
  },
  {
   "cell_type": "code",
   "execution_count": null,
   "id": "1ae6a4db",
   "metadata": {},
   "outputs": [],
   "source": []
  },
  {
   "cell_type": "markdown",
   "id": "c97c9c52",
   "metadata": {},
   "source": [
    "## L = 132 (11 years)"
   ]
  },
  {
   "cell_type": "code",
   "execution_count": null,
   "id": "9e8efc52",
   "metadata": {},
   "outputs": [],
   "source": [
    "#create the cissa object\n",
    "cissa_object_L_132 = Cissa(t=data_with_gaps['Date'],x=data_with_gaps['Electric power consumption in Spain'])\n",
    "cissa_object_L_132.pre_fill_gaps(L = 12*11,\n",
    "                       K_surrogates = 3, alpha = 0.1,  #settings some parameters for the Monte-Carlo routine\n",
    "                       test_number = 20, test_repeats=10, #These settings help us to understand the error during gap filling\n",
    "                       initial_guess = ['previous', 1.25], #this means we set missing values to the previous good value multiplied by 1.25 \n",
    "                        max_iter = 1000, #ensuring we have enough iterations to converge\n",
    "                        convergence = ['value', 500], #convergence value    \n",
    "                        verbose = False    \n",
    "                       )\n",
    "cissa_object_L_132.figures.get('cissa').get('figure_gap_fill_error')"
   ]
  },
  {
   "cell_type": "code",
   "execution_count": null,
   "id": "b191fc81",
   "metadata": {},
   "outputs": [],
   "source": []
  },
  {
   "cell_type": "markdown",
   "id": "4d0daf7b",
   "metadata": {},
   "source": [
    "## L = 144 (12 years)"
   ]
  },
  {
   "cell_type": "code",
   "execution_count": null,
   "id": "3e1f0f78",
   "metadata": {},
   "outputs": [],
   "source": [
    "#create the cissa object\n",
    "cissa_object_L_144 = Cissa(t=data_with_gaps['Date'],x=data_with_gaps['Electric power consumption in Spain'])\n",
    "cissa_object_L_144.pre_fill_gaps(L = 12*12,\n",
    "                       K_surrogates = 3, alpha = 0.1,  #settings some parameters for the Monte-Carlo routine\n",
    "                       test_number = 20, test_repeats=10, #These settings help us to understand the error during gap filling\n",
    "                       initial_guess = ['previous', 1.25], #this means we set missing values to the previous good value multiplied by 1.25 \n",
    "                        max_iter = 1000, #ensuring we have enough iterations to converge\n",
    "                        convergence = ['value', 500], #convergence value    \n",
    "                        verbose = False    \n",
    "                       )\n",
    "cissa_object_L_144.figures.get('cissa').get('figure_gap_fill_error')"
   ]
  },
  {
   "cell_type": "code",
   "execution_count": null,
   "id": "ed4a0f83",
   "metadata": {},
   "outputs": [],
   "source": []
  },
  {
   "cell_type": "markdown",
   "id": "6f64b1b7",
   "metadata": {},
   "source": [
    "## L = 156 (13 years)"
   ]
  },
  {
   "cell_type": "code",
   "execution_count": null,
   "id": "036d305c",
   "metadata": {},
   "outputs": [],
   "source": [
    "#create the cissa object\n",
    "cissa_object_L_156 = Cissa(t=data_with_gaps['Date'],x=data_with_gaps['Electric power consumption in Spain'])\n",
    "cissa_object_L_156.pre_fill_gaps(L = 12*13,\n",
    "                       K_surrogates = 3, alpha = 0.1,  #settings some parameters for the Monte-Carlo routine\n",
    "                       test_number = 20, test_repeats=10, #These settings help us to understand the error during gap filling\n",
    "                       initial_guess = ['previous', 1.25], #this means we set missing values to the previous good value multiplied by 1.25 \n",
    "                        max_iter = 1000, #ensuring we have enough iterations to converge\n",
    "                        convergence = ['value', 500], #convergence value    \n",
    "                        verbose = False    \n",
    "                       )\n",
    "cissa_object_L_156.figures.get('cissa').get('figure_gap_fill_error')"
   ]
  },
  {
   "cell_type": "code",
   "execution_count": null,
   "id": "24b1895f",
   "metadata": {},
   "outputs": [],
   "source": []
  },
  {
   "cell_type": "markdown",
   "id": "312316bd",
   "metadata": {},
   "source": [
    "## L = 168 (14 years)"
   ]
  },
  {
   "cell_type": "code",
   "execution_count": null,
   "id": "607842ba",
   "metadata": {},
   "outputs": [],
   "source": [
    "#create the cissa object\n",
    "cissa_object_L_168 = Cissa(t=data_with_gaps['Date'],x=data_with_gaps['Electric power consumption in Spain'])\n",
    "cissa_object_L_168.pre_fill_gaps(L = 12*14,\n",
    "                       K_surrogates = 3, alpha = 0.1,  #settings some parameters for the Monte-Carlo routine\n",
    "                       test_number = 20, test_repeats=10, #These settings help us to understand the error during gap filling\n",
    "                       initial_guess = ['previous', 1.25], #this means we set missing values to the previous good value multiplied by 1.25 \n",
    "                        max_iter = 1000, #ensuring we have enough iterations to converge\n",
    "                        convergence = ['value', 500], #convergence value    \n",
    "                        verbose = False    \n",
    "                       )\n",
    "cissa_object_L_168.figures.get('cissa').get('figure_gap_fill_error')"
   ]
  },
  {
   "cell_type": "code",
   "execution_count": null,
   "id": "897a0dfa",
   "metadata": {},
   "outputs": [],
   "source": []
  },
  {
   "cell_type": "markdown",
   "id": "b62e0171",
   "metadata": {},
   "source": [
    "## L = 180 (15 years)"
   ]
  },
  {
   "cell_type": "code",
   "execution_count": null,
   "id": "7486a81b",
   "metadata": {},
   "outputs": [],
   "source": [
    "#create the cissa object\n",
    "cissa_object_L_180 = Cissa(t=data_with_gaps['Date'],x=data_with_gaps['Electric power consumption in Spain'])\n",
    "cissa_object_L_180.pre_fill_gaps(L = 12*15,\n",
    "                       K_surrogates = 3, alpha = 0.1,  #settings some parameters for the Monte-Carlo routine\n",
    "                       test_number = 20, test_repeats=10, #These settings help us to understand the error during gap filling\n",
    "                       initial_guess = ['previous', 1.25], #this means we set missing values to the previous good value multiplied by 1.25 \n",
    "                        max_iter = 1000, #ensuring we have enough iterations to converge\n",
    "                        convergence = ['value', 500], #convergence value    \n",
    "                        verbose = False    \n",
    "                       )\n",
    "cissa_object_L_180.figures.get('cissa').get('figure_gap_fill_error')"
   ]
  },
  {
   "cell_type": "code",
   "execution_count": null,
   "id": "ad5d0134",
   "metadata": {},
   "outputs": [],
   "source": []
  },
  {
   "cell_type": "code",
   "execution_count": null,
   "id": "a7012beb",
   "metadata": {},
   "outputs": [],
   "source": []
  },
  {
   "cell_type": "markdown",
   "id": "34c28659",
   "metadata": {},
   "source": [
    "## L = 196 (16 years)"
   ]
  },
  {
   "cell_type": "code",
   "execution_count": null,
   "id": "4faf3ea3",
   "metadata": {},
   "outputs": [],
   "source": [
    "#create the cissa object\n",
    "cissa_object_L_196 = Cissa(t=data_with_gaps['Date'],x=data_with_gaps['Electric power consumption in Spain'])\n",
    "cissa_object_L_196.pre_fill_gaps(L = 12*16,\n",
    "                       K_surrogates = 3, alpha = 0.1,  #settings some parameters for the Monte-Carlo routine\n",
    "                       test_number = 20, test_repeats=10, #These settings help us to understand the error during gap filling\n",
    "                       initial_guess = ['previous', 1.25], #this means we set missing values to the previous good value multiplied by 1.25 \n",
    "                        max_iter = 1000, #ensuring we have enough iterations to converge\n",
    "                        convergence = ['value', 500], #convergence value    \n",
    "                        verbose = False    \n",
    "                       )\n",
    "cissa_object_L_196.figures.get('cissa').get('figure_gap_fill_error')"
   ]
  },
  {
   "cell_type": "code",
   "execution_count": null,
   "id": "d87cf6da",
   "metadata": {},
   "outputs": [],
   "source": []
  },
  {
   "cell_type": "markdown",
   "id": "de8b3ed8",
   "metadata": {},
   "source": [
    "## L = 240 (20 years)"
   ]
  },
  {
   "cell_type": "code",
   "execution_count": null,
   "id": "fd271245",
   "metadata": {},
   "outputs": [],
   "source": [
    "#create the cissa object\n",
    "cissa_object_L_240 = Cissa(t=data_with_gaps['Date'],x=data_with_gaps['Electric power consumption in Spain'])\n",
    "cissa_object_L_240.pre_fill_gaps(L = 12*20,\n",
    "                       K_surrogates = 3, alpha = 0.1,  #settings some parameters for the Monte-Carlo routine\n",
    "                       test_number = 20, test_repeats=10, #These settings help us to understand the error during gap filling\n",
    "                       initial_guess = ['previous', 1.25], #this means we set missing values to the previous good value multiplied by 1.25 \n",
    "                        max_iter = 1000, #ensuring we have enough iterations to converge\n",
    "                        convergence = ['value', 500], #convergence value    \n",
    "                        verbose = False    \n",
    "                       )\n",
    "cissa_object_L_240.figures.get('cissa').get('figure_gap_fill_error')"
   ]
  },
  {
   "cell_type": "code",
   "execution_count": null,
   "id": "675d4022",
   "metadata": {},
   "outputs": [],
   "source": []
  },
  {
   "cell_type": "markdown",
   "id": "c2cc5840",
   "metadata": {},
   "source": [
    "## L = half the time-series length (23 years)"
   ]
  },
  {
   "cell_type": "code",
   "execution_count": null,
   "id": "0a2b5c02",
   "metadata": {},
   "outputs": [],
   "source": [
    "#create the cissa object\n",
    "cissa_object_L_276 = Cissa(t=data_with_gaps['Date'],x=data_with_gaps['Electric power consumption in Spain'])\n",
    "cissa_object_L_276.pre_fill_gaps(L = 12*23,\n",
    "                       K_surrogates = 3, alpha = 0.1,  #settings some parameters for the Monte-Carlo routine\n",
    "                       test_number = 20, test_repeats=10, #These settings help us to understand the error during gap filling\n",
    "                       initial_guess = ['previous', 1.25], #this means we set missing values to the previous good value multiplied by 1.25 \n",
    "                        max_iter = 1000, #ensuring we have enough iterations to converge\n",
    "                        convergence = ['value', 500], #convergence value    \n",
    "                        verbose = False    \n",
    "                       )\n",
    "cissa_object_L_276.figures.get('cissa').get('figure_gap_fill_error')"
   ]
  },
  {
   "cell_type": "code",
   "execution_count": null,
   "id": "e73a3a3d",
   "metadata": {},
   "outputs": [],
   "source": []
  },
  {
   "cell_type": "code",
   "execution_count": null,
   "id": "76428110",
   "metadata": {},
   "outputs": [],
   "source": [
    "import matplotlib.pyplot as plt\n",
    "# Create the plot\n",
    "plt.plot([12,24,36,48,60,72,84,96,108,120,132,144,168,180,196, 240, 276], \n",
    "         [cissa_object_L_12.gap_fill_error_rmse, \n",
    "         cissa_object_L_24.gap_fill_error_rmse,\n",
    "         cissa_object_L_36.gap_fill_error_rmse,\n",
    "         cissa_object_L_48.gap_fill_error_rmse,\n",
    "         cissa_object_L_60.gap_fill_error_rmse,\n",
    "         cissa_object_L_72.gap_fill_error_rmse,\n",
    "         cissa_object_L_84.gap_fill_error_rmse,\n",
    "          cissa_object_L_96.gap_fill_error_rmse,\n",
    "          cissa_object_L_108.gap_fill_error_rmse,\n",
    "          cissa_object_L_120.gap_fill_error_rmse,\n",
    "          cissa_object_L_132.gap_fill_error_rmse,\n",
    "          cissa_object_L_144.gap_fill_error_rmse,\n",
    "          cissa_object_L_156.gap_fill_error_rmse,\n",
    "          cissa_object_L_168.gap_fill_error_rmse,\n",
    "          cissa_object_L_180.gap_fill_error_rmse,\n",
    "          cissa_object_L_196.gap_fill_error_rmse,\n",
    "          cissa_object_L_240.gap_fill_error_rmse,\n",
    "          cissa_object_L_276.gap_fill_error_rmse,\n",
    "         ], \n",
    "         marker='o')  # Line plot with circle markers\n",
    "\n",
    "# Add labels and title\n",
    "plt.xlabel('Window Length L')\n",
    "plt.ylabel('RMSE')\n",
    "plt.title('L vs RMSE')\n",
    "\n",
    "# Show the plot\n",
    "plt.show()"
   ]
  },
  {
   "cell_type": "code",
   "execution_count": null,
   "id": "3a201e8d",
   "metadata": {},
   "outputs": [],
   "source": []
  }
 ],
 "metadata": {
  "kernelspec": {
   "display_name": "Python 3 (ipykernel)",
   "language": "python",
   "name": "python3"
  },
  "language_info": {
   "codemirror_mode": {
    "name": "ipython",
    "version": 3
   },
   "file_extension": ".py",
   "mimetype": "text/x-python",
   "name": "python",
   "nbconvert_exporter": "python",
   "pygments_lexer": "ipython3",
   "version": "3.10.6"
  }
 },
 "nbformat": 4,
 "nbformat_minor": 5
}
