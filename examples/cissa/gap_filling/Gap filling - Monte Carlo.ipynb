{
 "cells": [
  {
   "cell_type": "markdown",
   "id": "49cc6e1c",
   "metadata": {},
   "source": [
    "# Cissa gap filling example - Monte-Carlo component method\n",
    "We can use CiSSA to fill in gaps of a time-series by making an initial guess for missing values, then iterating through CiSSA fitting until we reach a convergence."
   ]
  },
  {
   "cell_type": "code",
   "execution_count": null,
   "id": "aa27585a",
   "metadata": {},
   "outputs": [],
   "source": [
    "#importing required packages\n",
    "import pandas as pd\n",
    "import numpy as np\n",
    "import copy\n",
    "import os\n",
    "import warnings\n",
    "warnings.filterwarnings('ignore')\n",
    "dir_path = os.path.abspath('')\n",
    "os.chdir('../../..')\n",
    "home_path = os.path.abspath('')\n",
    "os.chdir('./pycissa/processing/cissa')\n",
    "from cissa import Cissa\n",
    "os.chdir(home_path)"
   ]
  },
  {
   "cell_type": "code",
   "execution_count": null,
   "id": "7cc556ca",
   "metadata": {},
   "outputs": [],
   "source": [
    "## Read data file  (source is the Ministry of Economy of Spain.)\n",
    "data = pd.read_excel(home_path + r'/data/EPC.xlsx',sheet_name = 'Data')"
   ]
  },
  {
   "cell_type": "markdown",
   "id": "303f7407",
   "metadata": {},
   "source": [
    "Here we will replace some data with NaN values to simulate missing values."
   ]
  },
  {
   "cell_type": "code",
   "execution_count": null,
   "id": "9ec7264e",
   "metadata": {},
   "outputs": [],
   "source": [
    "data_with_gaps = copy.deepcopy(data)\n",
    "data_with_gaps['Electric power consumption in Spain'][100] = np.nan\n",
    "data_with_gaps['Electric power consumption in Spain'][200] = np.nan\n",
    "data_with_gaps['Electric power consumption in Spain'][300] = np.nan\n",
    "data_with_gaps['Electric power consumption in Spain'][400] = np.nan\n",
    "data_with_gaps['Electric power consumption in Spain'][500] = np.nan\n",
    "print(data_with_gaps['Electric power consumption in Spain'][499:502])"
   ]
  },
  {
   "cell_type": "code",
   "execution_count": null,
   "id": "bb0cacb3",
   "metadata": {},
   "outputs": [],
   "source": [
    "#create the cissa object\n",
    "cissa_object = Cissa(t=data_with_gaps['Date'],x=data_with_gaps['Electric power consumption in Spain'])"
   ]
  },
  {
   "cell_type": "markdown",
   "id": "08696404",
   "metadata": {},
   "source": [
    "### We can either fix the values before running CiSSA using the pre_fill_gaps function, or use auto_cissa which will do the job as part of the automated process.\n",
    "\n",
    "We will use monte-carlo method to find significant components. All other components will be thrown away during the gap filling process.  "
   ]
  },
  {
   "cell_type": "code",
   "execution_count": null,
   "id": "6247ca95",
   "metadata": {},
   "outputs": [],
   "source": [
    "#here we choose a window length of 5 years. You can try other windown lengths to see how it effects the error rate\n",
    "#we add some parameters to control the gap filling\n",
    "cissa_object.auto_cissa(L = 12*5,\n",
    "                       K_surrogates = 5, alpha = 0.1,  #settings some parameters for the Monte-Carlo routine\n",
    "                       test_number = 10, test_repeats=10, #These settings help us to understand the error during gap filling. For 10 repeats we remove 10 known points, gap fill, and calculate the error. On the last run all points are included (none removed) \n",
    "                       initial_guess = ['previous', 1.25], #this means we set missing values to the previous good value multiplied by 1.25 \n",
    "                        max_iter = 500, #ensuring we have enough iterations to converge\n",
    "                        convergence = ['value', 50], #convergence value is 50 - adjust this for your time series\n",
    "                        verbose = True #just so we can see what is going on...\n",
    "                       )"
   ]
  },
  {
   "cell_type": "markdown",
   "id": "ee77b00e",
   "metadata": {},
   "source": [
    "## Cool, let's look at the imputed points..."
   ]
  },
  {
   "cell_type": "code",
   "execution_count": null,
   "id": "9f2d21d2",
   "metadata": {},
   "outputs": [],
   "source": [
    "cissa_object.figures.get('cissa').get('figure_gap_fill')"
   ]
  },
  {
   "cell_type": "markdown",
   "id": "d2d14847",
   "metadata": {},
   "source": [
    "## Let's see the error..."
   ]
  },
  {
   "cell_type": "code",
   "execution_count": null,
   "id": "0efe4b57",
   "metadata": {},
   "outputs": [],
   "source": [
    "cissa_object.figures.get('cissa').get('figure_gap_fill_error')"
   ]
  },
  {
   "cell_type": "code",
   "execution_count": null,
   "id": "746427f8",
   "metadata": {},
   "outputs": [],
   "source": []
  },
  {
   "cell_type": "markdown",
   "id": "a7896d26",
   "metadata": {},
   "source": [
    "## Lets try a smaller value of L, but we will use the pre_fill_gaps function so that we can run CiSSA after with a larger window size."
   ]
  },
  {
   "cell_type": "code",
   "execution_count": null,
   "id": "ad27a1e5",
   "metadata": {},
   "outputs": [],
   "source": [
    "#create the cissa object\n",
    "cissa_object_small_L = Cissa(t=data_with_gaps['Date'],x=data_with_gaps['Electric power consumption in Spain'])"
   ]
  },
  {
   "cell_type": "code",
   "execution_count": null,
   "id": "38dc6e20",
   "metadata": {},
   "outputs": [],
   "source": [
    "#here we choose a window length of 2 years. You can try other windown lengths to see how it effects the error rate\n",
    "#we add some parameters to control the gap filling\n",
    "cissa_object_small_L.pre_fill_gaps(L = 12*2,\n",
    "                       K_surrogates = 5, alpha = 0.1,  #settings some parameters for the Monte-Carlo routine\n",
    "                       test_number = 10, test_repeats=10, #These settings help us to understand the error during gap filling. For 10 repeats we remove 10 known points, gap fill, and calculate the error. On the last run all points are included (none removed) \n",
    "                       initial_guess = ['previous', 1.25], #this means we set missing values to the previous good value multiplied by 1.25 \n",
    "                        max_iter = 500, #ensuring we have enough iterations to converge\n",
    "                        convergence = ['value', 50], #convergence value is 50 - adjust this for your time series\n",
    "                        verbose = True #just so we can see what is going on...\n",
    "                       )"
   ]
  },
  {
   "cell_type": "code",
   "execution_count": null,
   "id": "39279881",
   "metadata": {},
   "outputs": [],
   "source": [
    "cissa_object_small_L.figures.get('cissa').get('figure_gap_fill')"
   ]
  },
  {
   "cell_type": "code",
   "execution_count": null,
   "id": "6c328e5a",
   "metadata": {},
   "outputs": [],
   "source": [
    "cissa_object_small_L.figures.get('cissa').get('figure_gap_fill_error')"
   ]
  },
  {
   "cell_type": "code",
   "execution_count": null,
   "id": "a6cb13d5",
   "metadata": {},
   "outputs": [],
   "source": [
    "print('''COMPONENT VARIANCE''')\n",
    "print(f'''TREND   : {cissa_object.results.get('cissa').get('noise component tests').get('trend_share')}%''')\n",
    "print(f'''PERIODIC: {cissa_object.results.get('cissa').get('noise component tests').get('periodic_share')}%''')\n",
    "print(f'''NOISE   : {cissa_object.results.get('cissa').get('noise component tests').get('noise_share')}%''')"
   ]
  },
  {
   "cell_type": "code",
   "execution_count": null,
   "id": "b0a0a9c6",
   "metadata": {},
   "outputs": [],
   "source": []
  },
  {
   "cell_type": "markdown",
   "id": "0aae8a32",
   "metadata": {},
   "source": [
    "### we could then rerun auto cissa with a larger window"
   ]
  },
  {
   "cell_type": "code",
   "execution_count": null,
   "id": "6a2e4afe",
   "metadata": {},
   "outputs": [],
   "source": [
    "cissa_object_gap_fixed = cissa_object_small_L = Cissa(t=data_with_gaps['Date'],x=cissa_object_small_L.x)\n",
    "cissa_object_gap_fixed.auto_cissa(L = 12*5,\n",
    "                       K_surrogates = 5, alpha = 0.1,  #settings some parameters for the Monte-Carlo routine\n",
    "                       )"
   ]
  },
  {
   "cell_type": "code",
   "execution_count": null,
   "id": "2785b839",
   "metadata": {},
   "outputs": [],
   "source": [
    "cissa_object_gap_fixed.figures.get('cissa').get('figure_split_components')"
   ]
  },
  {
   "cell_type": "code",
   "execution_count": null,
   "id": "dccacf33",
   "metadata": {},
   "outputs": [],
   "source": []
  },
  {
   "cell_type": "markdown",
   "id": "aad3944a",
   "metadata": {},
   "source": [
    "# Now let's try approximating then removing trend and refitting the gaps..."
   ]
  },
  {
   "cell_type": "code",
   "execution_count": null,
   "id": "c7fe7d3b",
   "metadata": {},
   "outputs": [],
   "source": []
  },
  {
   "cell_type": "code",
   "execution_count": null,
   "id": "5daaf4ef",
   "metadata": {},
   "outputs": [],
   "source": [
    "cissa_object_no_trend = Cissa(t=data_with_gaps['Date'],\n",
    "                              x=data_with_gaps['Electric power consumption in Spain'] - cissa_object.x_trend)"
   ]
  },
  {
   "cell_type": "code",
   "execution_count": null,
   "id": "32918aad",
   "metadata": {},
   "outputs": [],
   "source": [
    "#here we choose a window length of 5 years. You can try other windown lengths to see how it effects the error rate\n",
    "#we add some parameters to control the gap filling\n",
    "cissa_object_no_trend.auto_cissa(L = 12*5,\n",
    "                       K_surrogates = 5, alpha = 0.1,  #settings some parameters for the Monte-Carlo routine\n",
    "                       test_number = 10, test_repeats=10, #These settings help us to understand the error during gap filling. For 10 repeats we remove 10 known points, gap fill, and calculate the error. On the last run all points are included (none removed) \n",
    "                       initial_guess = ['previous', 1.25], #this means we set missing values to the previous good value multiplied by 1.25 \n",
    "                        max_iter = 500, #ensuring we have enough iterations to converge\n",
    "                        convergence = ['value', 50], #convergence value is 50\n",
    "                        verbose = True #just so we can see what is going on...\n",
    "                       )"
   ]
  },
  {
   "cell_type": "code",
   "execution_count": null,
   "id": "4757066f",
   "metadata": {},
   "outputs": [],
   "source": [
    "cissa_object_no_trend.figures.get('cissa').get('figure_gap_fill')"
   ]
  },
  {
   "cell_type": "code",
   "execution_count": null,
   "id": "9f371429",
   "metadata": {},
   "outputs": [],
   "source": [
    "cissa_object_no_trend.figures.get('cissa').get('figure_gap_fill_error')"
   ]
  }
 ],
 "metadata": {
  "kernelspec": {
   "display_name": "Python 3 (ipykernel)",
   "language": "python",
   "name": "python3"
  },
  "language_info": {
   "codemirror_mode": {
    "name": "ipython",
    "version": 3
   },
   "file_extension": ".py",
   "mimetype": "text/x-python",
   "name": "python",
   "nbconvert_exporter": "python",
   "pygments_lexer": "ipython3",
   "version": "3.10.6"
  }
 },
 "nbformat": 4,
 "nbformat_minor": 5
}
