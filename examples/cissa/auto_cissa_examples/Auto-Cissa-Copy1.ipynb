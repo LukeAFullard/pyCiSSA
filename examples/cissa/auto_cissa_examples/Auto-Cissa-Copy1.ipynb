{
 "cells": [
  {
   "cell_type": "markdown",
   "metadata": {},
   "source": [
    "# This notebook contains an example of running CiSSA on auto mode.\n",
    "## The only parameter that the user MUST set is the window length, L.\n",
    "Even if the user does not set L explicitly, auto-cissa will take L to be half the time series length.  \n",
    "If needed, auto-cissa will:\n",
    "- a) Fix any censored data\n",
    "- b) Replace any NaN values using cissa gap fill method\n",
    "- c) Fit the data using CiSSA\n",
    "- d) Find significant components using a Monte-Carlo procedure\n",
    "- e) Group components into trend, periodic, and noise groups.\n",
    "- f) Run frequency time analysis, plot trend and other figures."
   ]
  },
  {
   "cell_type": "code",
   "execution_count": 1,
   "metadata": {
    "scrolled": false
   },
   "outputs": [],
   "source": [
    "#importing required packages\n",
    "import pandas as pd\n",
    "import numpy as np\n",
    "import os\n",
    "os.chdir('../../..')\n",
    "home_path = os.path.abspath('')\n",
    "from pycissa import Cissa\n",
    "os.chdir(home_path)"
   ]
  },
  {
   "cell_type": "code",
   "execution_count": 2,
   "metadata": {
    "scrolled": false
   },
   "outputs": [],
   "source": [
    "## Read data file  (source is the Ministry of Economy of Spain.)\n",
    "data = pd.read_excel(home_path + r'/data/EPC.xlsx',sheet_name = 'Data')"
   ]
  },
  {
   "cell_type": "code",
   "execution_count": 3,
   "metadata": {
    "scrolled": false
   },
   "outputs": [],
   "source": [
    "#create the cissa object\n",
    "cissa_object = Cissa(t=list(range(0,len(data['Date']))),x=data['Electric power consumption in Spain'])"
   ]
  },
  {
   "cell_type": "code",
   "execution_count": null,
   "metadata": {
    "scrolled": false
   },
   "outputs": [
    {
     "name": "stdout",
     "output_type": "stream",
     "text": [
      "Checking for censored or nan data...\n",
      "RUNNING CISSA!\n",
      "Performing monte-carlo significance analysis...\n"
     ]
    }
   ],
   "source": [
    "#here we choose a window length of 5 years.\n",
    "cissa_object.auto_cissa(L = 12*5,\n",
    "                       K_surrogates = 5, alpha = 0.05,  #settings some parameters for the Monte-Carlo routine\n",
    "                       )"
   ]
  },
  {
   "cell_type": "code",
   "execution_count": null,
   "metadata": {
    "scrolled": false
   },
   "outputs": [],
   "source": []
  },
  {
   "cell_type": "markdown",
   "metadata": {},
   "source": [
    "### Firstly, let us view the original time series and how the CiSSA method has split the components:"
   ]
  },
  {
   "cell_type": "code",
   "execution_count": null,
   "metadata": {
    "scrolled": true
   },
   "outputs": [],
   "source": [
    "cissa_object.figures.get('cissa').get('figure_split_components')"
   ]
  },
  {
   "cell_type": "code",
   "execution_count": null,
   "metadata": {
    "scrolled": false
   },
   "outputs": [],
   "source": [
    "print('''COMPONENT VARIANCE''')\n",
    "print(f'''TREND   : {cissa_object.results.get('cissa').get('noise component tests').get('trend_share')}%''')\n",
    "print(f'''PERIODIC: {cissa_object.results.get('cissa').get('noise component tests').get('periodic_share')}%''')\n",
    "print(f'''NOISE   : {cissa_object.results.get('cissa').get('noise component tests').get('noise_share')}%''')"
   ]
  },
  {
   "cell_type": "markdown",
   "metadata": {},
   "source": [
    "### Now we will look at the significant components:"
   ]
  },
  {
   "cell_type": "code",
   "execution_count": null,
   "metadata": {
    "scrolled": false
   },
   "outputs": [],
   "source": [
    "cissa_object.figures.get('cissa').get('figure_monte_carlo')"
   ]
  },
  {
   "cell_type": "code",
   "execution_count": null,
   "metadata": {
    "scrolled": false
   },
   "outputs": [],
   "source": [
    "#here we iterate through the results and find the frequencies that passed monte-carlo test.\n",
    "#Note the result dictionary is structured according to input options.\n",
    "#We also convert the frequency to period in years since we have monthly data\n",
    "print(\"Trend is included in significant components.\")\n",
    "print(\" \")\n",
    "for key_j in cissa_object.results.get('cissa').get('components').keys():\n",
    "    if key_j != 'trend':\n",
    "        if cissa_object.results.get('cissa').get('components').get(key_j).get('monte_carlo').get('random_permutation').get('alpha').get(0.05).get('pass'):\n",
    "            print(\"Significant CiSSA component found!\")\n",
    "            print(f\" Frequency = {key_j} per unit timestep\")\n",
    "            print(f\"Period = {1/(12*key_j)} years\")\n",
    "            print(\" \")"
   ]
  },
  {
   "cell_type": "code",
   "execution_count": null,
   "metadata": {
    "scrolled": false
   },
   "outputs": [],
   "source": []
  },
  {
   "cell_type": "markdown",
   "metadata": {},
   "source": [
    "### Next we will look at the trend..."
   ]
  },
  {
   "cell_type": "markdown",
   "metadata": {},
   "source": [
    "Since L is set at 5 years (L=12*5) then trend is defined as any signal component with period longer than 5 years"
   ]
  },
  {
   "cell_type": "code",
   "execution_count": null,
   "metadata": {
    "scrolled": false
   },
   "outputs": [],
   "source": [
    "cissa_object.figures.get('cissa').get('figure_trend')"
   ]
  },
  {
   "cell_type": "markdown",
   "metadata": {},
   "source": [
    "### Next we will look at the frequency time analysis..."
   ]
  },
  {
   "cell_type": "code",
   "execution_count": null,
   "metadata": {
    "scrolled": false
   },
   "outputs": [],
   "source": [
    "cissa_object.figures.get('cissa').get('figure_frequency_time')"
   ]
  },
  {
   "cell_type": "markdown",
   "metadata": {},
   "source": [
    "The 1 year signal seems to have the strongest signal power, but the six month signal power greatly increases towards the end of the time series.  "
   ]
  },
  {
   "cell_type": "code",
   "execution_count": null,
   "metadata": {
    "scrolled": false
   },
   "outputs": [],
   "source": []
  },
  {
   "cell_type": "markdown",
   "metadata": {},
   "source": [
    "### Looking now at the noise residuals"
   ]
  },
  {
   "cell_type": "code",
   "execution_count": null,
   "metadata": {
    "scrolled": false
   },
   "outputs": [],
   "source": [
    "cissa_object.figures.get('cissa').get('figure_residual_check')"
   ]
  },
  {
   "cell_type": "markdown",
   "metadata": {},
   "source": [
    "### We can access the last 5 values of the trend, periodic, and noise components"
   ]
  },
  {
   "cell_type": "code",
   "execution_count": null,
   "metadata": {
    "scrolled": false
   },
   "outputs": [],
   "source": [
    "print(\"TREND\")\n",
    "print(np.column_stack((cissa_object.t[-5:].astype(str), cissa_object.x_trend[-5:].astype(str))))\n",
    "print(\" \")\n",
    "\n",
    "print(\"PERIODIC\")\n",
    "print(np.column_stack((cissa_object.t[-5:].astype(str), cissa_object.x_periodic[-5:].astype(str))))\n",
    "print(\" \")\n",
    "\n",
    "print(\"NOISE/RESIDUAL\")\n",
    "print(np.column_stack((cissa_object.t[-5:].astype(str), cissa_object.x_noise[-5:].astype(str))))\n",
    "print(\" \")\n"
   ]
  },
  {
   "cell_type": "markdown",
   "metadata": {},
   "source": [
    "These components can be used to detrend, denoise a signal, or used in a prediction model."
   ]
  },
  {
   "cell_type": "code",
   "execution_count": null,
   "metadata": {
    "scrolled": false
   },
   "outputs": [],
   "source": []
  }
 ],
 "metadata": {
  "kernelspec": {
   "display_name": "Python (pycissa_test)",
   "language": "python",
   "name": "pycissa_test"
  },
  "language_info": {
   "codemirror_mode": {
    "name": "ipython",
    "version": 3
   },
   "file_extension": ".py",
   "mimetype": "text/x-python",
   "name": "python",
   "nbconvert_exporter": "python",
   "pygments_lexer": "ipython3",
   "version": "3.10.16"
  }
 },
 "nbformat": 4,
 "nbformat_minor": 5
}
